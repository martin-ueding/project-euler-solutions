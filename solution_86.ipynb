{
 "cells": [
  {
   "cell_type": "code",
   "execution_count": 3,
   "metadata": {},
   "outputs": [],
   "source": [
    "import itertools\n",
    "import math\n",
    "import random\n"
   ]
  },
  {
   "cell_type": "code",
   "execution_count": 5,
   "metadata": {},
   "outputs": [],
   "source": [
    "def path_length(a: int, b: int, c: int) -> float:\n",
    "    return math.sqrt(((a * b) / (b + c)) ** 2 + b**2) + math.sqrt(\n",
    "        (a - (a * b) / (b + c)) ** 2 + c**2\n",
    "    )"
   ]
  },
  {
   "cell_type": "code",
   "execution_count": 7,
   "metadata": {},
   "outputs": [
    {
     "data": {
      "text/plain": [
       "{(3, 5, 6): 11.40175425099138,\n",
       " (3, 6, 5): 11.40175425099138,\n",
       " (5, 3, 6): 10.295630140987,\n",
       " (5, 6, 3): 10.295630140987,\n",
       " (6, 3, 5): 10.0,\n",
       " (6, 5, 3): 10.0}"
      ]
     },
     "execution_count": 7,
     "metadata": {},
     "output_type": "execute_result"
    }
   ],
   "source": [
    "{edges: path_length(*edges) for edges in itertools.permutations([3, 5, 6])}"
   ]
  },
  {
   "cell_type": "code",
   "execution_count": 16,
   "metadata": {},
   "outputs": [],
   "source": [
    "for i in range(1000):\n",
    "    lengths = [random.random() for j in range(3)]\n",
    "    actual = min(path_length(*edges) for edges in itertools.permutations(lengths))\n",
    "    expected = path_length(*sorted(lengths, reverse=True))\n",
    "    assert abs(actual - expected) < 1e-10, (lengths, actual, expected)"
   ]
  },
  {
   "cell_type": "code",
   "execution_count": 1,
   "metadata": {},
   "outputs": [],
   "source": [
    "def path_length_2(a: int, b: int, c: int) -> float:\n",
    "    return math.sqrt(a**2 + (b + c)**2)"
   ]
  },
  {
   "cell_type": "code",
   "execution_count": 8,
   "metadata": {},
   "outputs": [],
   "source": [
    "for i in range(100):\n",
    "    lengths = sorted([random.random() for j in range(3)], reverse=True)\n",
    "    actual = path_length_2(*lengths)\n",
    "    expected = path_length(*lengths)\n",
    "    assert abs(actual - expected) < 1e-10, (lengths, actual, expected)"
   ]
  },
  {
   "cell_type": "code",
   "execution_count": null,
   "metadata": {},
   "outputs": [],
   "source": []
  }
 ],
 "metadata": {
  "kernelspec": {
   "display_name": "Python 3",
   "language": "python",
   "name": "python3"
  },
  "language_info": {
   "codemirror_mode": {
    "name": "ipython",
    "version": 3
   },
   "file_extension": ".py",
   "mimetype": "text/x-python",
   "name": "python",
   "nbconvert_exporter": "python",
   "pygments_lexer": "ipython3",
   "version": "3.12.2"
  },
  "orig_nbformat": 4
 },
 "nbformat": 4,
 "nbformat_minor": 2
}
